{
 "cells": [
  {
   "cell_type": "code",
   "execution_count": null,
   "metadata": {},
   "outputs": [],
   "source": [
    "!pip install sentence_transformers"
   ]
  },
  {
   "cell_type": "code",
   "execution_count": null,
   "metadata": {},
   "outputs": [],
   "source": [
    "!pip install requirements.txt"
   ]
  },
  {
   "cell_type": "code",
   "execution_count": null,
   "metadata": {},
   "outputs": [],
   "source": [
    "from elasticsearch import Elasticsearch"
   ]
  },
  {
   "cell_type": "code",
   "execution_count": null,
   "metadata": {},
   "outputs": [],
   "source": [
    "es = Elasticsearch(\n",
    "    \"https://localhost:9200\",\n",
    "    basic_auth=(\"elastic\",\"+z8wCDJ=3Z-nDAoZExt*\"),\n",
    "    ca_certs=\"/Users/ryeon/Documents/YerinShin/2024_1/http_ca.crt\"\n",
    "    #ca_certs=\"/Users/abidsaudagar/Personal/yt1_semantic_search/elasticsearch-8.13.0/config/certs/http_ca.crt\"\n",
    ")\n",
    "es.ping()"
   ]
  },
  {
   "cell_type": "code",
   "execution_count": null,
   "metadata": {},
   "outputs": [],
   "source": [
    "import pandas as pd\n",
    "\n",
    "df = pd.read_csv(\"alltagging20_tfidf20_test.csv\")"
   ]
  },
  {
   "cell_type": "code",
   "execution_count": null,
   "metadata": {},
   "outputs": [],
   "source": [
    "df.head()"
   ]
  },
  {
   "cell_type": "code",
   "execution_count": null,
   "metadata": {},
   "outputs": [],
   "source": [
    "df = df[['Column1', '상품이름', '가격', '상품정보','태깅num']]"
   ]
  },
  {
   "cell_type": "code",
   "execution_count": null,
   "metadata": {},
   "outputs": [],
   "source": [
    "import kss\n",
    "import pandas as pd\n",
    "\n",
    "# CSV 파일로부터 데이터 불러오기\n",
    "#df = pd.read_csv('찐최종.csv')\n",
    "\n",
    "# 문장 분리 함수\n",
    "def split_sentences(text):\n",
    "    return kss.split_sentences(text)\n",
    "\n",
    "# 각 행에 대해 상품정보를 문장으로 분리하여 '문장' 컬럼에 추가\n",
    "df['문장'] = df['상품정보'].apply(split_sentences)\n",
    "\n",
    "# 새로운 데이터프레임 생성\n",
    "result_df = pd.DataFrame(columns=['Column1', '상품이름', '가격', '문장','태깅num'])\n",
    "\n",
    "# 각 행에 대해 반복하여 문장을 result_df에 추가\n",
    "for idx, row in df.iterrows():\n",
    "    for sentence in row['문장']:\n",
    "        result_df = pd.concat([result_df, pd.DataFrame({\n",
    "            'Column1': [row['Column1']],\n",
    "            '상품이름': [row['상품이름']],\n",
    "            '가격': [row['가격']],\n",
    "            '태깅num': [row['태깅num']],\n",
    "            '문장': [sentence.strip()]  # 문장 앞뒤 공백 제거\n",
    "        })], ignore_index=True)\n",
    "\n",
    "df = result_df"
   ]
  },
  {
   "cell_type": "code",
   "execution_count": null,
   "metadata": {},
   "outputs": [],
   "source": [
    "from sentence_transformers import SentenceTransformer\n",
    "model = SentenceTransformer('sentence-transformers/LaBSE')"
   ]
  },
  {
   "cell_type": "code",
   "execution_count": null,
   "metadata": {},
   "outputs": [],
   "source": [
    "df[\"DescriptionVector\"] = df[\"문장\"].apply(lambda x: model.encode(x))"
   ]
  },
  {
   "cell_type": "code",
   "execution_count": null,
   "metadata": {},
   "outputs": [],
   "source": [
    "import numpy as np\n",
    "\n",
    "# '문장' 열을 상품별로 합치기\n",
    "df_sentences_combined = df.groupby('상품이름')['문장'].apply(lambda x: ' '.join(x)).reset_index()\n",
    "\n",
    "# 상품별 DescriptionVector 평균 내기\n",
    "df_vector_combined = df.groupby('상품이름')['DescriptionVector'].apply(lambda x: np.mean(x, axis=0)).reset_index()\n",
    "\n",
    "# 가격 열은 상품당 하나의 가격으로 가정하여 첫 번째 값을 사용\n",
    "df_price = df.groupby('상품이름')['가격'].first().reset_index()\n",
    "\n",
    "df_column = df.groupby('상품이름')['Column1'].first().reset_index()\n",
    "\n",
    "df_topic = df.groupby('상품이름')['태깅num'].first().reset_index()\n",
    "\n",
    "# 합치기\n",
    "df_combined2 = df_sentences_combined.merge(df_vector_combined, on='상품이름', suffixes=('_sentences', '_vector'))\n",
    "df_combined2 = df_combined2.merge(df_price, on='상품이름')\n",
    "df_combined2 = df_combined2.merge(df_column, on='상품이름')\n",
    "df_combined2 = df_combined2.merge(df_topic, on='상품이름')\n",
    "\n",
    "# 열 이름 변경\n",
    "df_combined2.columns = ['상품이름', '문장', 'DescriptionVector', '가격', 'Column1', '태깅num']\n",
    "\n",
    "# 결과 확인\n",
    "df_combined2"
   ]
  },
  {
   "cell_type": "code",
   "execution_count": null,
   "metadata": {},
   "outputs": [],
   "source": [
    "# 열 순서 변경\n",
    "df_new2 = df_combined2[['Column1', '상품이름', '가격', '문장', '태깅num', 'DescriptionVector', '상품정보']]\n",
    "\n",
    "# 'Column1' 기준으로 데이터 나열\n",
    "df_new2.sort_values(by='Column1', inplace=True)\n",
    "\n",
    "# 결과 확인\n",
    "df_new2"
   ]
  },
  {
   "cell_type": "code",
   "execution_count": null,
   "metadata": {},
   "outputs": [],
   "source": [
    "indexMapping = {\n",
    "    \"properties\":{  \n",
    "        \"ProductID\":{\n",
    "            \"type\" : \"text\"\n",
    "        },\n",
    "        \"ProductName\":{\n",
    "            \"type\":\"text\"\n",
    "        },\n",
    "        \"Price (INR)\":{\n",
    "            \"type\":\"long\"\n",
    "        },\n",
    "        \"Description\":{\n",
    "            \"type\":\"text\"\n",
    "        },\n",
    "        \"taggingNum\":{\n",
    "            \"type\":\"long\"\n",
    "        },\n",
    "        \"DescriptionVector\":{\n",
    "            \"type\":\"dense_vector\",\n",
    "            \"dims\": 768,\n",
    "            \"index\":True,\n",
    "            \"similarity\": \"cosine\"\n",
    "        }\n",
    "\n",
    "    }\n",
    "}"
   ]
  },
  {
   "cell_type": "code",
   "execution_count": null,
   "metadata": {},
   "outputs": [],
   "source": [
    "#from indexMapping import indexMapping\n",
    "\n",
    "es.indices.create(index=\"tagging_with\", mappings=indexMapping)"
   ]
  },
  {
   "cell_type": "code",
   "execution_count": null,
   "metadata": {},
   "outputs": [],
   "source": [
    "record_list = df.to_dict(\"records\")"
   ]
  },
  {
   "cell_type": "code",
   "execution_count": null,
   "metadata": {},
   "outputs": [],
   "source": [
    "record_list"
   ]
  },
  {
   "cell_type": "code",
   "execution_count": null,
   "metadata": {},
   "outputs": [],
   "source": [
    "for record in record_list:\n",
    "    try:\n",
    "        es.index(index=\"tagging_with\", document=record)\n",
    "    except Exception as e:\n",
    "        print(e)"
   ]
  },
  {
   "cell_type": "code",
   "execution_count": null,
   "metadata": {},
   "outputs": [],
   "source": [
    "es.count(index=\"tagging_with\")"
   ]
  }
 ],
 "metadata": {
  "interpreter": {
   "hash": "86a6cf47835ab0e2dce5c1c94e44a39874ba3f22424a887975ad5916ae2acc0d"
  },
  "kernelspec": {
   "display_name": "Python 3.10.6 ('.final': venv)",
   "language": "python",
   "name": "python3"
  },
  "language_info": {
   "name": "python",
   "version": "3.10.6"
  },
  "orig_nbformat": 4
 },
 "nbformat": 4,
 "nbformat_minor": 2
}
